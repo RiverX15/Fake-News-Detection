{
  "cells": [
    {
      "cell_type": "markdown",
      "metadata": {},
      "source": [
        "# 1. Load the dataset"
      ]
    },
    {
      "cell_type": "code",
      "execution_count": 1,
      "metadata": {},
      "outputs": [],
      "source": [
        "import pandas as pd"
      ]
    },
    {
      "cell_type": "code",
      "execution_count": 2,
      "metadata": {},
      "outputs": [],
      "source": [
        "df = pd.read_csv(\"WELFake_Dataset.csv\")"
      ]
    },
    {
      "cell_type": "code",
      "execution_count": 3,
      "metadata": {},
      "outputs": [
        {
          "data": {
            "text/plain": [
              "Unnamed: 0    72134\n",
              "title         71576\n",
              "text          72095\n",
              "label         72134\n",
              "dtype: int64"
            ]
          },
          "execution_count": 3,
          "metadata": {},
          "output_type": "execute_result"
        }
      ],
      "source": [
        "df.count()"
      ]
    },
    {
      "cell_type": "code",
      "execution_count": 4,
      "metadata": {},
      "outputs": [
        {
          "name": "stdout",
          "output_type": "stream",
          "text": [
            "   Unnamed: 0                                              title  \\\n",
            "0           0  LAW ENFORCEMENT ON HIGH ALERT Following Threat...   \n",
            "1           1                                                NaN   \n",
            "2           2  UNBELIEVABLE! OBAMA’S ATTORNEY GENERAL SAYS MO...   \n",
            "3           3  Bobby Jindal, raised Hindu, uses story of Chri...   \n",
            "4           4  SATAN 2: Russia unvelis an image of its terrif...   \n",
            "\n",
            "                                                text  label  \n",
            "0  No comment is expected from Barack Obama Membe...      1  \n",
            "1     Did they post their votes for Hillary already?      1  \n",
            "2   Now, most of the demonstrators gathered last ...      1  \n",
            "3  A dozen politically active pastors came here f...      0  \n",
            "4  The RS-28 Sarmat missile, dubbed Satan 2, will...      1  \n"
          ]
        }
      ],
      "source": [
        "print(df.head())"
      ]
    },
    {
      "cell_type": "code",
      "execution_count": 5,
      "metadata": {},
      "outputs": [],
      "source": [
        "df[\"title + text\"] = df[\"title\"] + \". \" + df[\"text\"]"
      ]
    },
    {
      "cell_type": "markdown",
      "metadata": {},
      "source": [
        "### 1.1 Working on a subset of the dataset for initial testing"
      ]
    },
    {
      "cell_type": "code",
      "execution_count": 6,
      "metadata": {},
      "outputs": [],
      "source": [
        "# # Working on a subset of the df for faster notebook runs\n",
        "# subset_df = df.sample(n=10000, random_state=42)\n",
        "# subset_df.to_csv('subset_WELFake.csv', index=False)"
      ]
    },
    {
      "cell_type": "code",
      "execution_count": 7,
      "metadata": {},
      "outputs": [],
      "source": [
        "# df = pd.read_csv('subset_WELFake.csv')\n",
        "# df.count()"
      ]
    },
    {
      "cell_type": "markdown",
      "metadata": {},
      "source": [
        "# 2. FastText Embeddings"
      ]
    },
    {
      "cell_type": "code",
      "execution_count": 8,
      "metadata": {},
      "outputs": [
        {
          "name": "stdout",
          "output_type": "stream",
          "text": [
            "Requirement already satisfied: fasttext in /opt/homebrew/Caskroom/miniconda/base/envs/DL/lib/python3.11/site-packages (0.9.3)\n",
            "Requirement already satisfied: pybind11>=2.2 in /opt/homebrew/Caskroom/miniconda/base/envs/DL/lib/python3.11/site-packages (from fasttext) (2.13.6)\n",
            "Requirement already satisfied: setuptools>=0.7.0 in /opt/homebrew/Caskroom/miniconda/base/envs/DL/lib/python3.11/site-packages (from fasttext) (68.0.0)\n",
            "Requirement already satisfied: numpy in /opt/homebrew/Caskroom/miniconda/base/envs/DL/lib/python3.11/site-packages (from fasttext) (1.26.4)\n",
            "Note: you may need to restart the kernel to use updated packages.\n"
          ]
        }
      ],
      "source": [
        "%pip install fasttext"
      ]
    },
    {
      "cell_type": "code",
      "execution_count": 9,
      "metadata": {
        "colab": {
          "base_uri": "https://localhost:8080/"
        },
        "id": "WGTl2skkfS0p",
        "outputId": "90ff791d-6097-4dbc-e018-564fefc585c0"
      },
      "outputs": [],
      "source": [
        "import numpy as np\n",
        "import fasttext"
      ]
    },
    {
      "cell_type": "code",
      "execution_count": 10,
      "metadata": {},
      "outputs": [],
      "source": [
        "from sklearn.model_selection import train_test_split"
      ]
    },
    {
      "cell_type": "code",
      "execution_count": 11,
      "metadata": {},
      "outputs": [],
      "source": [
        "X_train, X_test, y_train, y_test = train_test_split(\n",
        "    df['title + text'], df['label'], test_size=0.2, random_state=42\n",
        ")"
      ]
    },
    {
      "cell_type": "markdown",
      "metadata": {},
      "source": [
        "### 2.1.1 Pretrained FastText Model"
      ]
    },
    {
      "cell_type": "code",
      "execution_count": null,
      "metadata": {},
      "outputs": [],
      "source": [
        "# # Download the pretrained weights in the current working directory from here: https://dl.fbaipublicfiles.com/fasttext/vectors-crawl/cc.en.300.bin.gz\n",
        "# model = fasttext.load_model('cc.en.300.bin')"
      ]
    },
    {
      "cell_type": "markdown",
      "metadata": {},
      "source": [
        "### 2.1.2 Training our own FastText Model"
      ]
    },
    {
      "cell_type": "code",
      "execution_count": null,
      "metadata": {},
      "outputs": [],
      "source": [
        "# X_train.to_csv(\"WELFake_train.csv\", index=False)\n",
        "# model = fasttext.train_unsupervised(\"WELFake_train.csv\", model='skipgram')\n",
        "# model.save_model(\"fast_text_model.bin\")"
      ]
    },
    {
      "cell_type": "code",
      "execution_count": null,
      "metadata": {},
      "outputs": [],
      "source": [
        "model = fasttext.load_model('fast_text_model.bin')"
      ]
    },
    {
      "cell_type": "markdown",
      "metadata": {},
      "source": [
        "## 2.2 Generating embeddings using our choice of model"
      ]
    },
    {
      "cell_type": "code",
      "execution_count": 14,
      "metadata": {},
      "outputs": [],
      "source": [
        "def get_sentence_embedding(text, model):\n",
        "    if not isinstance(text, str):\n",
        "        if pd.isna(text): # NaN -> \"\"\n",
        "            text = \"\"\n",
        "        else:\n",
        "            text = str(text)\n",
        "    clean_text = text.replace('\\n', ' ').strip()\n",
        "    try:\n",
        "        return model.get_sentence_vector(clean_text)\n",
        "    except ValueError as e:\n",
        "        print(f\"Error processing text: {clean_text[:50]}...\")\n",
        "        print(f\"Error message: {e}\")\n",
        "        # Return a zero vector as fallback\n",
        "        return np.zeros(model.get_dimension())"
      ]
    },
    {
      "cell_type": "code",
      "execution_count": 15,
      "metadata": {},
      "outputs": [],
      "source": [
        "X_train_embeddings = np.array([get_sentence_embedding(text, model) for text in X_train])\n",
        "X_test_embeddings = np.array([get_sentence_embedding(text, model) for text in X_test])"
      ]
    },
    {
      "cell_type": "markdown",
      "metadata": {
        "id": "4F5qObUcZq2F"
      },
      "source": [
        "# 3. SVM"
      ]
    },
    {
      "cell_type": "code",
      "execution_count": 49,
      "metadata": {
        "id": "EvKNfp0WZrm5"
      },
      "outputs": [],
      "source": [
        "from sklearn.svm import LinearSVC\n",
        "from sklearn.calibration import CalibratedClassifierCV\n",
        "from sklearn.metrics import accuracy_score, classification_report, confusion_matrix, matthews_corrcoef\n",
        "import matplotlib.pyplot as plt\n",
        "import seaborn as sns"
      ]
    },
    {
      "cell_type": "code",
      "execution_count": 50,
      "metadata": {},
      "outputs": [],
      "source": [
        "linear_svc = LinearSVC(dual=False)\n",
        "calibrated_svc = CalibratedClassifierCV(linear_svc)\n",
        "calibrated_svc.fit(X_train_embeddings, y_train)\n",
        "y_pred = calibrated_svc.predict(X_test_embeddings)"
      ]
    },
    {
      "cell_type": "code",
      "execution_count": 51,
      "metadata": {},
      "outputs": [
        {
          "name": "stdout",
          "output_type": "stream",
          "text": [
            "Accuracy: 0.9581\n",
            "\n",
            "Classification Report:\n",
            "              precision    recall  f1-score   support\n",
            "\n",
            "           0     0.9566    0.9581    0.9574      7089\n",
            "           1     0.9595    0.9580    0.9587      7338\n",
            "\n",
            "    accuracy                         0.9581     14427\n",
            "   macro avg     0.9580    0.9581    0.9581     14427\n",
            "weighted avg     0.9581    0.9581    0.9581     14427\n",
            "\n",
            "Matthews Correlation Coefficient: 0.9161077627249605\n"
          ]
        }
      ],
      "source": [
        "accuracy = accuracy_score(y_test, y_pred)\n",
        "print(f\"Accuracy: {accuracy:.4f}\")\n",
        "print(\"\\nClassification Report:\")\n",
        "print(classification_report(y_test, y_pred, digits=4))\n",
        "mcc = matthews_corrcoef(y_test, y_pred)\n",
        "print(f\"Matthews Correlation Coefficient: {mcc}\")"
      ]
    },
    {
      "cell_type": "code",
      "execution_count": 52,
      "metadata": {},
      "outputs": [
        {
          "data": {
            "image/png": "[encoded data removed]",
            "text/plain": [
              "<Figure size 800x600 with 2 Axes>"
            ]
          },
          "metadata": {},
          "output_type": "display_data"
        }
      ],
      "source": [
        "cm = confusion_matrix(y_test, y_pred)\n",
        "plt.figure(figsize=(8,6))\n",
        "sns.heatmap(cm, annot=True, fmt='d', cmap='Blues',\n",
        "            xticklabels=['Fake', 'Real'],\n",
        "            yticklabels=['Fake', 'Real'])\n",
        "plt.xlabel('Predicted')\n",
        "plt.ylabel('Actual')\n",
        "plt.title('Confusion Matrix')\n",
        "plt.show()"
      ]
    },
    {
      "cell_type": "markdown",
      "metadata": {},
      "source": [
        "# 4. XGBoost"
      ]
    },
    {
      "cell_type": "code",
      "execution_count": 53,
      "metadata": {},
      "outputs": [
        {
          "name": "stdout",
          "output_type": "stream",
          "text": [
            "Requirement already satisfied: xgboost in /opt/homebrew/Caskroom/miniconda/base/envs/DL/lib/python3.11/site-packages (3.0.0)\n",
            "Requirement already satisfied: numpy in /opt/homebrew/Caskroom/miniconda/base/envs/DL/lib/python3.11/site-packages (from xgboost) (1.26.4)\n",
            "Requirement already satisfied: scipy in /opt/homebrew/Caskroom/miniconda/base/envs/DL/lib/python3.11/site-packages (from xgboost) (1.11.4)\n",
            "Note: you may need to restart the kernel to use updated packages.\n"
          ]
        }
      ],
      "source": [
        "%pip install xgboost"
      ]
    },
    {
      "cell_type": "code",
      "execution_count": 54,
      "metadata": {},
      "outputs": [],
      "source": [
        "import xgboost as xgb\n",
        "from sklearn.metrics import accuracy_score, classification_report, confusion_matrix, matthews_corrcoef\n",
        "import numpy as np\n",
        "import matplotlib.pyplot as plt\n",
        "import seaborn as sns\n"
      ]
    },
    {
      "cell_type": "code",
      "execution_count": 55,
      "metadata": {},
      "outputs": [],
      "source": [
        "xgb_model = xgb.XGBClassifier(\n",
        "    n_estimators=100,\n",
        "    learning_rate=0.1,\n",
        "    max_depth=5,\n",
        "    min_child_weight=1,\n",
        "    gamma=0,\n",
        "    subsample=0.8,\n",
        "    colsample_bytree=0.8,\n",
        "    objective='binary:logistic',\n",
        "    random_state=42,\n",
        "    use_label_encoder=False,\n",
        "    eval_metric='logloss',\n",
        "    early_stopping_rounds=10\n",
        ")\n"
      ]
    },
    {
      "cell_type": "code",
      "execution_count": 56,
      "metadata": {},
      "outputs": [
        {
          "name": "stdout",
          "output_type": "stream",
          "text": [
            "[0]\tvalidation_0-logloss:0.63549\n",
            "[1]\tvalidation_0-logloss:0.58747\n",
            "[2]\tvalidation_0-logloss:0.54511\n",
            "[3]\tvalidation_0-logloss:0.50932\n",
            "[4]\tvalidation_0-logloss:0.47914\n",
            "[5]\tvalidation_0-logloss:0.45237\n",
            "[6]\tvalidation_0-logloss:0.42806\n",
            "[7]\tvalidation_0-logloss:0.40714\n",
            "[8]\tvalidation_0-logloss:0.38819\n",
            "[9]\tvalidation_0-logloss:0.37074\n",
            "[10]\tvalidation_0-logloss:0.35510\n",
            "[11]\tvalidation_0-logloss:0.34123\n",
            "[12]\tvalidation_0-logloss:0.32850\n",
            "[13]\tvalidation_0-logloss:0.31681\n",
            "[14]\tvalidation_0-logloss:0.30657\n",
            "[15]\tvalidation_0-logloss:0.29633\n",
            "[16]\tvalidation_0-logloss:0.28684\n",
            "[17]\tvalidation_0-logloss:0.27893\n",
            "[18]\tvalidation_0-logloss:0.27134\n",
            "[19]\tvalidation_0-logloss:0.26408\n",
            "[20]\tvalidation_0-logloss:0.25752\n",
            "[21]\tvalidation_0-logloss:0.25075\n",
            "[22]\tvalidation_0-logloss:0.24501\n",
            "[23]\tvalidation_0-logloss:0.23929\n",
            "[24]\tvalidation_0-logloss:0.23403\n",
            "[25]\tvalidation_0-logloss:0.22929\n",
            "[26]\tvalidation_0-logloss:0.22471\n",
            "[27]\tvalidation_0-logloss:0.22022\n"
          ]
        },
        {
          "name": "stderr",
          "output_type": "stream",
          "text": [
            "/opt/homebrew/Caskroom/miniconda/base/envs/DL/lib/python3.11/site-packages/xgboost/callback.py:386: UserWarning: [21:57:31] WARNING: /Users/runner/work/xgboost/xgboost/src/learner.cc:738: \n",
            "Parameters: { \"use_label_encoder\" } are not used.\n",
            "\n",
            "  self.starting_round = model.num_boosted_rounds()\n"
          ]
        },
        {
          "name": "stdout",
          "output_type": "stream",
          "text": [
            "[28]\tvalidation_0-logloss:0.21606\n",
            "[29]\tvalidation_0-logloss:0.21246\n",
            "[30]\tvalidation_0-logloss:0.20826\n",
            "[31]\tvalidation_0-logloss:0.20489\n",
            "[32]\tvalidation_0-logloss:0.20133\n",
            "[33]\tvalidation_0-logloss:0.19793\n",
            "[34]\tvalidation_0-logloss:0.19521\n",
            "[35]\tvalidation_0-logloss:0.19242\n",
            "[36]\tvalidation_0-logloss:0.18938\n",
            "[37]\tvalidation_0-logloss:0.18652\n",
            "[38]\tvalidation_0-logloss:0.18403\n",
            "[39]\tvalidation_0-logloss:0.18194\n",
            "[40]\tvalidation_0-logloss:0.17994\n",
            "[41]\tvalidation_0-logloss:0.17750\n",
            "[42]\tvalidation_0-logloss:0.17568\n",
            "[43]\tvalidation_0-logloss:0.17337\n",
            "[44]\tvalidation_0-logloss:0.17137\n",
            "[45]\tvalidation_0-logloss:0.16960\n",
            "[46]\tvalidation_0-logloss:0.16771\n",
            "[47]\tvalidation_0-logloss:0.16626\n",
            "[48]\tvalidation_0-logloss:0.16478\n",
            "[49]\tvalidation_0-logloss:0.16313\n",
            "[50]\tvalidation_0-logloss:0.16163\n",
            "[51]\tvalidation_0-logloss:0.16020\n",
            "[52]\tvalidation_0-logloss:0.15854\n",
            "[53]\tvalidation_0-logloss:0.15708\n",
            "[54]\tvalidation_0-logloss:0.15554\n",
            "[55]\tvalidation_0-logloss:0.15440\n",
            "[56]\tvalidation_0-logloss:0.15318\n",
            "[57]\tvalidation_0-logloss:0.15186\n",
            "[58]\tvalidation_0-logloss:0.15069\n",
            "[59]\tvalidation_0-logloss:0.14967\n",
            "[60]\tvalidation_0-logloss:0.14826\n",
            "[61]\tvalidation_0-logloss:0.14712\n",
            "[62]\tvalidation_0-logloss:0.14613\n",
            "[63]\tvalidation_0-logloss:0.14530\n",
            "[64]\tvalidation_0-logloss:0.14417\n",
            "[65]\tvalidation_0-logloss:0.14293\n",
            "[66]\tvalidation_0-logloss:0.14199\n",
            "[67]\tvalidation_0-logloss:0.14125\n",
            "[68]\tvalidation_0-logloss:0.14034\n",
            "[69]\tvalidation_0-logloss:0.13918\n",
            "[70]\tvalidation_0-logloss:0.13845\n",
            "[71]\tvalidation_0-logloss:0.13732\n",
            "[72]\tvalidation_0-logloss:0.13644\n",
            "[73]\tvalidation_0-logloss:0.13558\n",
            "[74]\tvalidation_0-logloss:0.13491\n",
            "[75]\tvalidation_0-logloss:0.13389\n",
            "[76]\tvalidation_0-logloss:0.13314\n",
            "[77]\tvalidation_0-logloss:0.13232\n",
            "[78]\tvalidation_0-logloss:0.13139\n",
            "[79]\tvalidation_0-logloss:0.13047\n",
            "[80]\tvalidation_0-logloss:0.12981\n",
            "[81]\tvalidation_0-logloss:0.12914\n",
            "[82]\tvalidation_0-logloss:0.12846\n",
            "[83]\tvalidation_0-logloss:0.12789\n",
            "[84]\tvalidation_0-logloss:0.12739\n",
            "[85]\tvalidation_0-logloss:0.12658\n",
            "[86]\tvalidation_0-logloss:0.12598\n",
            "[87]\tvalidation_0-logloss:0.12536\n",
            "[88]\tvalidation_0-logloss:0.12463\n",
            "[89]\tvalidation_0-logloss:0.12406\n",
            "[90]\tvalidation_0-logloss:0.12325\n",
            "[91]\tvalidation_0-logloss:0.12270\n",
            "[92]\tvalidation_0-logloss:0.12211\n",
            "[93]\tvalidation_0-logloss:0.12136\n",
            "[94]\tvalidation_0-logloss:0.12065\n",
            "[95]\tvalidation_0-logloss:0.11997\n",
            "[96]\tvalidation_0-logloss:0.11945\n",
            "[97]\tvalidation_0-logloss:0.11878\n",
            "[98]\tvalidation_0-logloss:0.11811\n",
            "[99]\tvalidation_0-logloss:0.11746\n"
          ]
        }
      ],
      "source": [
        "xgb_model.fit(\n",
        "    X_train_embeddings, \n",
        "    y_train,\n",
        "    eval_set=[(X_test_embeddings, y_test)],\n",
        "    verbose=True\n",
        ")\n",
        "y_pred = xgb_model.predict(X_test_embeddings)\n",
        "y_prob = xgb_model.predict_proba(X_test_embeddings)[:, 1]\n"
      ]
    },
    {
      "cell_type": "code",
      "execution_count": 57,
      "metadata": {},
      "outputs": [
        {
          "name": "stdout",
          "output_type": "stream",
          "text": [
            "Accuracy: 0.9558\n",
            "\n",
            "Classification Report:\n",
            "              precision    recall  f1-score   support\n",
            "\n",
            "           0     0.9530    0.9573    0.9551      7089\n",
            "           1     0.9585    0.9543    0.9564      7338\n",
            "\n",
            "    accuracy                         0.9558     14427\n",
            "   macro avg     0.9557    0.9558    0.9558     14427\n",
            "weighted avg     0.9558    0.9558    0.9558     14427\n",
            "\n",
            "Matthews Correlation Coefficient: 0.9115441180687233\n"
          ]
        }
      ],
      "source": [
        "accuracy = accuracy_score(y_test, y_pred)\n",
        "print(f\"Accuracy: {accuracy:.4f}\")\n",
        "print(\"\\nClassification Report:\")\n",
        "print(classification_report(y_test, y_pred, digits=4))\n",
        "mcc = matthews_corrcoef(y_test, y_pred)\n",
        "print(f\"Matthews Correlation Coefficient: {mcc}\")"
      ]
    },
    {
      "cell_type": "code",
      "execution_count": 58,
      "metadata": {},
      "outputs": [
        {
          "data": {
            "image/png": "[encoded data removed]",
            "text/plain": [
              "<Figure size 800x600 with 2 Axes>"
            ]
          },
          "metadata": {},
          "output_type": "display_data"
        }
      ],
      "source": [
        "cm = confusion_matrix(y_test, y_pred)\n",
        "plt.figure(figsize=(8, 6))\n",
        "sns.heatmap(cm, annot=True, fmt='d', cmap='Blues', \n",
        "            xticklabels=['Fake', 'Real'], \n",
        "            yticklabels=['Fake', 'Real'])\n",
        "plt.xlabel('Predicted')\n",
        "plt.ylabel('Actual')\n",
        "plt.title('Confusion Matrix')\n",
        "plt.show()"
      ]
    },
    {
      "cell_type": "markdown",
      "metadata": {},
      "source": [
        "# 5. HAN"
      ]
    },
    {
      "cell_type": "code",
      "execution_count": 26,
      "metadata": {},
      "outputs": [
        {
          "name": "stdout",
          "output_type": "stream",
          "text": [
            "ORIGINAL TRAIN DATASET SIZE: 71537\n",
            "REDUCED TRAIN DATASET SIZE: 71537\n"
          ]
        }
      ],
      "source": [
        "import torch\n",
        "from torch.utils.data import DataLoader, TensorDataset\n",
        "\n",
        "import pandas as pd\n",
        "df_noNa = df.dropna()\n",
        "df_han = pd.DataFrame({'text':df_noNa[\"title + text\"].astype(str), 'label':df_noNa[\"label\"]})\n",
        "\n",
        "print(f\"ORIGINAL TRAIN DATASET SIZE: {len(df_han)}\")\n",
        "# df_han = df_han.sample(10000, replace=False) # REDUCING SIZE FOR FASTER TRAINING/DEBUGGING\n",
        "print(f\"REDUCED TRAIN DATASET SIZE: {len(df_han)}\")"
      ]
    },
    {
      "cell_type": "code",
      "execution_count": 27,
      "metadata": {},
      "outputs": [
        {
          "name": "stdout",
          "output_type": "stream",
          "text": [
            "mps\n"
          ]
        }
      ],
      "source": [
        "device = torch.device(\n",
        "    \"mps\" if torch.backends.mps.is_available() else\n",
        "    \"cuda\" if torch.cuda.is_available() else\n",
        "    \"cpu\"\n",
        ")\n",
        "\n",
        "print(device)"
      ]
    },
    {
      "cell_type": "code",
      "execution_count": 28,
      "metadata": {},
      "outputs": [
        {
          "name": "stdout",
          "output_type": "stream",
          "text": [
            "Requirement already satisfied: nltk in /opt/homebrew/Caskroom/miniconda/base/envs/DL/lib/python3.11/site-packages (3.9.1)\n",
            "Requirement already satisfied: click in /opt/homebrew/Caskroom/miniconda/base/envs/DL/lib/python3.11/site-packages (from nltk) (8.1.7)\n",
            "Requirement already satisfied: joblib in /opt/homebrew/Caskroom/miniconda/base/envs/DL/lib/python3.11/site-packages (from nltk) (1.2.0)\n",
            "Requirement already satisfied: regex>=2021.8.3 in /opt/homebrew/Caskroom/miniconda/base/envs/DL/lib/python3.11/site-packages (from nltk) (2023.12.25)\n",
            "Requirement already satisfied: tqdm in /opt/homebrew/Caskroom/miniconda/base/envs/DL/lib/python3.11/site-packages (from nltk) (4.65.0)\n",
            "Note: you may need to restart the kernel to use updated packages.\n"
          ]
        }
      ],
      "source": [
        "%pip install nltk"
      ]
    },
    {
      "cell_type": "code",
      "execution_count": null,
      "metadata": {},
      "outputs": [
        {
          "name": "stderr",
          "output_type": "stream",
          "text": [
            "[nltk_data] Downloading package punkt to ./NLTK...\n",
            "[nltk_data]   Package punkt is already up-to-date!\n",
            "[nltk_data] Downloading package punkt_tab to ./NLTK...\n",
            "[nltk_data]   Package punkt_tab is already up-to-date!\n",
            "[nltk_data] Downloading package punkt to /Users/noobrobot/nltk_data...\n",
            "[nltk_data]   Package punkt is already up-to-date!\n"
          ]
        }
      ],
      "source": [
        "import nltk\n",
        "nLTK_DOWNLOAD_DIR = \"./NLTK\"\n",
        "nltk.download('punkt', download_dir=nLTK_DOWNLOAD_DIR)\n",
        "nltk.download('punkt_tab', download_dir=nLTK_DOWNLOAD_DIR)\n",
        "nltk.data.path.append(nLTK_DOWNLOAD_DIR)\n",
        "\n",
        "from torch.utils.data import DataLoader, TensorDataset, random_split\n",
        "from nltk.tokenize import sent_tokenize, word_tokenize\n",
        "\n",
        "nltk.download('punkt')\n",
        "\n",
        "MAX_SENTENCES = 20  # Max sentences per document\n",
        "MAX_WORDS = 20     # Max words per sentence\n",
        "BATCH_SIZE = 16\n",
        "\n",
        "all_words = []\n",
        "for text in df_han['text']:\n",
        "    sentences = sent_tokenize(text)\n",
        "    for sent in sentences:\n",
        "        all_words.extend(word_tokenize(sent))\n",
        "        \n",
        "word2idx = {word: idx+1 for idx, word in enumerate(set(all_words))}\n",
        "word2idx[\"<PAD>\"] = 0\n",
        "\n",
        "processed_texts = []\n",
        "for text in df_han['text']:\n",
        "    sentences = sent_tokenize(text)[:MAX_SENTENCES]\n",
        "    \n",
        "    sentence_indices = []\n",
        "    for sent in sentences:\n",
        "        words = word_tokenize(sent)[:MAX_WORDS]\n",
        "        indices = [word2idx.get(word, 0) for word in words]\n",
        "        \n",
        "        if len(indices) < MAX_WORDS:\n",
        "            indices += [0] * (MAX_WORDS - len(indices))\n",
        "        else:\n",
        "            indices = indices[:MAX_WORDS]\n",
        "            \n",
        "        sentence_indices.append(indices)\n",
        "    \n",
        "    if len(sentence_indices) < MAX_SENTENCES:\n",
        "        pad = [[0]*MAX_WORDS] * (MAX_SENTENCES - len(sentence_indices))\n",
        "        sentence_indices += pad\n",
        "    else:\n",
        "        sentence_indices = sentence_indices[:MAX_SENTENCES]\n",
        "    \n",
        "    processed_texts.append(sentence_indices)\n",
        "\n",
        "text_tensor = torch.LongTensor(processed_texts).to(device)\n",
        "label_tensor = torch.FloatTensor(df_han['label'].values).to(device)"
      ]
    },
    {
      "cell_type": "code",
      "execution_count": 30,
      "metadata": {},
      "outputs": [],
      "source": [
        "dataset = TensorDataset(text_tensor, label_tensor)\n",
        "train, test = random_split(dataset, [int(len(dataset)*0.8), len(dataset) - int(len(dataset)*0.8)])\n",
        "train_loader = DataLoader(train, batch_size=BATCH_SIZE, shuffle=True)"
      ]
    },
    {
      "cell_type": "code",
      "execution_count": 31,
      "metadata": {},
      "outputs": [],
      "source": [
        "import torch\n",
        "import torch.nn as nn\n",
        "import torch.nn.functional as F\n",
        "\n",
        "class HierarchicalAttentionNetwork(nn.Module):\n",
        "    def __init__(self, vocab_size, embed_dim, hidden_size):\n",
        "        super().__init__()\n",
        "        \n",
        "        # WORD\n",
        "        self.word_embed = nn.Embedding(vocab_size, embed_dim)\n",
        "        self.word_gru = nn.GRU(embed_dim, hidden_size, bidirectional=True, batch_first=True)\n",
        "        self.word_proj = nn.Linear(2*hidden_size, 2*hidden_size)\n",
        "        self.word_ctx = nn.Linear(2*hidden_size, 1, bias=False)\n",
        "        \n",
        "        # SENTENCE\n",
        "        self.sent_gru = nn.GRU(2*hidden_size, hidden_size, bidirectional=True, batch_first=True)\n",
        "        self.sent_proj = nn.Linear(2*hidden_size, 2*hidden_size)\n",
        "        self.sent_ctx = nn.Linear(2*hidden_size, 1, bias=False)\n",
        "        \n",
        "        self.classifier = nn.Linear(2*hidden_size, 1)\n",
        "\n",
        "    def forward(self, x):\n",
        "        batch_size, num_sent, num_word = x.size()\n",
        "        \n",
        "        # WORD LEVEL\n",
        "        x = x.view(-1, num_word)\n",
        "        emb = self.word_embed(x)\n",
        "        \n",
        "        word_out, _ = self.word_gru(emb)\n",
        "        \n",
        "        # WORD ATTENTION\n",
        "        word_a = torch.tanh(self.word_proj(word_out))\n",
        "        word_attn = F.softmax(self.word_ctx(word_a).squeeze(-1), dim=1)\n",
        "        sentence_vec = torch.bmm(word_out.transpose(1,2), word_attn.unsqueeze(2)).squeeze(2)\n",
        "        \n",
        "        # SENTENCE LEVEL\n",
        "        sentence_vec = sentence_vec.view(batch_size, num_sent, -1) \n",
        "        sent_out, _ = self.sent_gru(sentence_vec)\n",
        "        \n",
        "        # SENTENCE ATTENTION\n",
        "        sent_a = torch.tanh(self.sent_proj(sent_out))\n",
        "        sent_attn = F.softmax(self.sent_ctx(sent_a).squeeze(-1), dim=1)\n",
        "        document_vec = torch.bmm(sent_out.transpose(1,2), sent_attn.unsqueeze(2)).squeeze(2)\n",
        "        \n",
        "        return torch.sigmoid(self.classifier(document_vec).squeeze(1))\n"
      ]
    },
    {
      "cell_type": "code",
      "execution_count": null,
      "metadata": {},
      "outputs": [
        {
          "name": "stdout",
          "output_type": "stream",
          "text": [
            "Epoch 1/30, Loss: 0.5006\n",
            "Epoch 2/30, Loss: 0.1315\n",
            "Epoch 3/30, Loss: 0.0850\n",
            "Epoch 4/30, Loss: 0.0672\n",
            "Epoch 5/30, Loss: 0.0568\n",
            "Epoch 6/30, Loss: 0.0483\n",
            "Epoch 7/30, Loss: 0.0420\n",
            "Epoch 8/30, Loss: 0.0361\n",
            "Epoch 9/30, Loss: 0.0316\n",
            "Epoch 10/30, Loss: 0.0270\n",
            "Epoch 11/30, Loss: 0.0231\n",
            "Epoch 12/30, Loss: 0.0198\n",
            "Epoch 13/30, Loss: 0.0169\n",
            "Epoch 14/30, Loss: 0.0142\n",
            "Epoch 15/30, Loss: 0.0118\n",
            "Epoch 16/30, Loss: 0.0097\n",
            "Epoch 17/30, Loss: 0.0081\n",
            "Epoch 18/30, Loss: 0.0069\n",
            "Epoch 19/30, Loss: 0.0052\n",
            "Epoch 20/30, Loss: 0.0045\n",
            "Epoch 21/30, Loss: 0.0035\n",
            "Epoch 22/30, Loss: 0.0030\n",
            "Epoch 23/30, Loss: 0.0026\n",
            "Epoch 24/30, Loss: 0.0021\n",
            "Epoch 25/30, Loss: 0.0018\n",
            "Epoch 26/30, Loss: 0.0017\n",
            "Epoch 27/30, Loss: 0.0016\n",
            "Epoch 28/30, Loss: 0.0014\n",
            "Epoch 29/30, Loss: 0.0013\n",
            "Epoch 30/30, Loss: 0.0013\n"
          ]
        }
      ],
      "source": [
        "BATCH_SIZE = 64\n",
        "LEARNING_RATE = 0.03\n",
        "EPOCHS = 30\n",
        "VOCAB_SIZE = len(word2idx)\n",
        "embed_dim = 200    \n",
        "hidden_size = 50    \n",
        "\n",
        "model = HierarchicalAttentionNetwork(VOCAB_SIZE, embed_dim, hidden_size).to(device)\n",
        "\n",
        "criterion = nn.BCELoss()\n",
        "\n",
        "optimizer = torch.optim.Adadelta(model.parameters(), lr=LEARNING_RATE)\n",
        "\n",
        "losses = []\n",
        "for epoch in range(EPOCHS):\n",
        "    totloss = 0\n",
        "    for batch in train_loader:\n",
        "        texts, labels = batch\n",
        "        texts = texts.to(device)\n",
        "        labels = labels.to(device)\n",
        "        probs = model(texts)\n",
        "        loss = criterion(probs, labels.float())\n",
        "        totloss += loss.item()\n",
        "        optimizer.zero_grad()\n",
        "        loss.backward()\n",
        "        optimizer.step()\n",
        "    losses.append(totloss/len(train_loader))\n",
        "    print(f\"Epoch {epoch+1}/{EPOCHS}, Loss: {losses[-1]:.4f}\")\n",
        "\n"
      ]
    },
    {
      "cell_type": "code",
      "execution_count": 33,
      "metadata": {},
      "outputs": [],
      "source": [
        "torch.save(model, \"H3_mps.pt\") \n",
        "torch.save(model.to(\"cpu\"), \"H3_cpu.pt\")"
      ]
    },
    {
      "cell_type": "code",
      "execution_count": 34,
      "metadata": {},
      "outputs": [
        {
          "data": {
            "image/png": "[encoded data removed]",
            "text/plain": [
              "<Figure size 640x480 with 1 Axes>"
            ]
          },
          "metadata": {},
          "output_type": "display_data"
        }
      ],
      "source": [
        "import matplotlib.pyplot as plt\n",
        "import numpy as np\n",
        "\n",
        "plt.plot(losses)\n",
        "plt.title(\"EPOCH LOSSES\")\n",
        "plt.xlabel(\"Epoch\")\n",
        "plt.ylabel(\"Loss\")\n",
        "\n",
        "plt.show()"
      ]
    },
    {
      "cell_type": "code",
      "execution_count": 35,
      "metadata": {},
      "outputs": [],
      "source": [
        "model = torch.load(\"H3_mps.pt\")\n",
        "# device = torch.device(\"cpu\")"
      ]
    },
    {
      "cell_type": "code",
      "execution_count": 36,
      "metadata": {},
      "outputs": [
        {
          "data": {
            "text/plain": [
              "HierarchicalAttentionNetwork(\n",
              "  (word_embed): Embedding(449525, 200)\n",
              "  (word_gru): GRU(200, 50, batch_first=True, bidirectional=True)\n",
              "  (word_proj): Linear(in_features=100, out_features=100, bias=True)\n",
              "  (word_ctx): Linear(in_features=100, out_features=1, bias=False)\n",
              "  (sent_gru): GRU(100, 50, batch_first=True, bidirectional=True)\n",
              "  (sent_proj): Linear(in_features=100, out_features=100, bias=True)\n",
              "  (sent_ctx): Linear(in_features=100, out_features=1, bias=False)\n",
              "  (classifier): Linear(in_features=100, out_features=1, bias=True)\n",
              ")"
            ]
          },
          "execution_count": 36,
          "metadata": {},
          "output_type": "execute_result"
        }
      ],
      "source": [
        "model.eval()\n",
        "\n",
        "test_loader = DataLoader(test, batch_size=BATCH_SIZE, shuffle=False)\n",
        "predictions = []\n",
        "true_labels = []\n",
        "with torch.no_grad():\n",
        "    for batch in test_loader:\n",
        "        texts, labels = batch\n",
        "        texts = texts.to(device)\n",
        "        labels = labels.to(device)\n",
        "        probs = model(texts)\n",
        "        predictions.extend(probs.cpu().numpy())\n",
        "        true_labels.extend(labels.cpu().numpy())\n",
        "\n",
        "model.train()"
      ]
    },
    {
      "cell_type": "code",
      "execution_count": 37,
      "metadata": {},
      "outputs": [
        {
          "data": {
            "image/png": "[encoded data removed]",
            "text/plain": [
              "<Figure size 800x600 with 2 Axes>"
            ]
          },
          "metadata": {},
          "output_type": "display_data"
        }
      ],
      "source": [
        "from sklearn.metrics import confusion_matrix, accuracy_score, matthews_corrcoef\n",
        "import seaborn as sns\n",
        "\n",
        "cm = confusion_matrix(true_labels, np.round(predictions))\n",
        "plt.figure(figsize=(8,6))\n",
        "sns.heatmap(cm, annot=True, fmt='d', cmap='Blues',\n",
        "            xticklabels=['Fake', 'Real'],\n",
        "            yticklabels=['Fake', 'Real'])\n",
        "plt.xlabel('Predicted')\n",
        "plt.ylabel('Actual')\n",
        "plt.title('Confusion Matrix')\n",
        "plt.show()"
      ]
    },
    {
      "cell_type": "code",
      "execution_count": 39,
      "metadata": {},
      "outputs": [
        {
          "name": "stdout",
          "output_type": "stream",
          "text": [
            "Accuracy: 0.9852\n",
            "\n",
            "Classification Report:\n",
            "              precision    recall  f1-score   support\n",
            "\n",
            "         0.0     0.9857    0.9840    0.9848      6987\n",
            "         1.0     0.9847    0.9863    0.9855      7321\n",
            "\n",
            "    accuracy                         0.9852     14308\n",
            "   macro avg     0.9852    0.9852    0.9852     14308\n",
            "weighted avg     0.9852    0.9852    0.9852     14308\n",
            "\n",
            "Matthews Correlation Coefficient: 0.9703502767956756\n"
          ]
        }
      ],
      "source": [
        "accuracy = accuracy_score(true_labels, np.round(predictions))\n",
        "print(f\"Accuracy: {accuracy:.4f}\")\n",
        "print(\"\\nClassification Report:\")\n",
        "print(classification_report(true_labels, np.round(predictions), digits=4))\n",
        "mcc = matthews_corrcoef(true_labels, np.round(predictions))\n",
        "print(f\"Matthews Correlation Coefficient: {mcc}\")"
      ]
    }
  ],
  "metadata": {
    "colab": {
      "provenance": []
    },
    "kernelspec": {
      "display_name": "fake-news-detection",
      "language": "python",
      "name": "python3"
    },
    "language_info": {
      "codemirror_mode": {
        "name": "ipython",
        "version": 3
      },
      "file_extension": ".py",
      "mimetype": "text/x-python",
      "name": "python",
      "nbconvert_exporter": "python",
      "pygments_lexer": "ipython3",
      "version": "3.11.5"
    }
  },
  "nbformat": 4,
  "nbformat_minor": 0
}
